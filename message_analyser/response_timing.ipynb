{
 "cells": [
  {
   "cell_type": "markdown",
   "metadata": {},
   "source": [
    "# Response Timing from Telegram HTML Export\n",
    "\n",
    "This notebook computes response times between two users using a Telegram Desktop/Lite HTML export.\n",
    "Set the export path and the two participant names below."
   ],
   "id": "db9cffe98d5bd118"
  },
  {
   "cell_type": "code",
   "metadata": {
    "ExecuteTime": {
     "end_time": "2025-09-22T16:31:33.502744Z",
     "start_time": "2025-09-22T16:31:33.500464Z"
    }
   },
   "source": [
    "from pathlib import Path\n",
    "from statistics import median, mean\n",
    "\n",
    "from message_analyser.retriever.telegram_html import get_mymessages_from_html\n",
    "\n",
    "# Required: path to the export folder or messages.html\n",
    "export_path = \"/Users/danuhaha/Downloads/Telegram Lite/ChatExport_2025-09-20\"  # e.g., '/Users/me/Downloads/ChatExport_2025-09-21'\n",
    "\n",
    "# Required: names must match how they appear in the export\n",
    "your_name = \"Даня Горин\"\n",
    "target_name = \"Ваня\"\n",
    "\n",
    "assert Path(export_path).exists(), f'Export path not found: {export_path}'\n"
   ],
   "id": "37bbe3ff16638bab",
   "outputs": [],
   "execution_count": 10
  },
  {
   "cell_type": "code",
   "metadata": {
    "ExecuteTime": {
     "end_time": "2025-09-22T16:31:52.804776Z",
     "start_time": "2025-09-22T16:31:35.611529Z"
    }
   },
   "source": [
    "# Load messages from HTML export and build a simplified history: (date, is_out, text)\n",
    "msgs = get_mymessages_from_html(export_path, your_name, target_name)\n",
    "\n",
    "def _norm(s):\n",
    "    return (s or '').strip().casefold()\n",
    "_me = _norm(your_name)\n",
    "_tgt = _norm(target_name)\n",
    "\n",
    "# Mark your messages by case-insensitive author match\n",
    "timestamps_history = [(msg.date, _norm(msg.author)==_me, msg.text or '') for msg in msgs]\n",
    "print(f'Total messages: {len(timestamps_history)}; first: {timestamps_history[0][0]}; last: {timestamps_history[-1][0]}')\n",
    "\n"
   ],
   "id": "e2b982771414d810",
   "outputs": [
    {
     "name": "stderr",
     "output_type": "stream",
     "text": [
      "2025-09-22 19:31:52,773 - 38688 messages parsed from Telegram HTML export at /Users/danuhaha/Downloads/Telegram Lite/ChatExport_2025-09-20\n",
      "\n"
     ]
    },
    {
     "name": "stdout",
     "output_type": "stream",
     "text": [
      "Total messages: 38688; first: 2024-09-16 20:56:54; last: 2025-09-20 22:41:08\n"
     ]
    }
   ],
   "execution_count": 11
  },
  {
   "cell_type": "code",
   "metadata": {
    "ExecuteTime": {
     "end_time": "2025-09-22T16:35:20.812846Z",
     "start_time": "2025-09-22T16:35:20.803647Z"
    }
   },
   "source": [
    "# Split consecutive messages into replicas per author in chronological order\n",
    "def split_history_into_replicas(history):\n",
    "    replicas = []\n",
    "    if not history:\n",
    "        return replicas\n",
    "    current = [history[0]]\n",
    "    current_is_out = history[0][1]\n",
    "    for item in history[1:]:\n",
    "        if item[1] == current_is_out:\n",
    "            current.append(item)\n",
    "        else:\n",
    "            replicas.append(current)\n",
    "            current = [item]\n",
    "            current_is_out = item[1]\n",
    "    replicas.append(current)\n",
    "    return replicas\n",
    "\n",
    "replicas = split_history_into_replicas(timestamps_history)\n",
    "print('Replicas:', len(replicas))\n"
   ],
   "id": "9bd99fe3f37503a5",
   "outputs": [
    {
     "name": "stdout",
     "output_type": "stream",
     "text": [
      "Replicas: 19357\n"
     ]
    }
   ],
   "execution_count": 16
  },
  {
   "cell_type": "code",
   "metadata": {
    "ExecuteTime": {
     "end_time": "2025-09-22T17:19:42.204568Z",
     "start_time": "2025-09-22T17:19:42.193562Z"
    }
   },
   "source": [
    "# Compute response time deltas between alternating replicas (focus on questions ending with '?')\n",
    "her_diffs = []   # partner response time to your questions (seconds)\n",
    "my_diffs = []    # your response time to partner's questions (seconds)\n",
    "\n",
    "for i in range(len(replicas) - 1):\n",
    "    first_next = replicas[i + 1][0]\n",
    "    last_current = replicas[i][-1]\n",
    "    diff_sec = int((first_next[0] - last_current[0]).total_seconds())\n",
    "    if diff_sec < 0:\n",
    "        # Should not happen if history is chronological, but guard anyway\n",
    "        continue\n",
    "    last_text = last_current[2] or ''\n",
    "    if '?' in last_text:\n",
    "        if last_current[1] and not first_next[1]:\n",
    "            her_diffs.append(diff_sec)\n",
    "        elif (not last_current[1]) and first_next[1]:\n",
    "            my_diffs.append(diff_sec)\n",
    "\n",
    "print('Samples -> Ваня:', len(her_diffs), 'Я:', len(my_diffs))\n"
   ],
   "id": "f3e741dbf66fadf7",
   "outputs": [
    {
     "name": "stdout",
     "output_type": "stream",
     "text": [
      "Samples -> Ваня: 1320 Я: 594\n"
     ]
    }
   ],
   "execution_count": 20
  },
  {
   "cell_type": "code",
   "metadata": {
    "ExecuteTime": {
     "end_time": "2025-09-22T17:20:15.985913Z",
     "start_time": "2025-09-22T17:20:15.978472Z"
    }
   },
   "source": [
    "# Build coarse distributions (same shape as original) and basic stats\n",
    "def build_distribution(data, step, left_th, right_th):\n",
    "    new_data = [ts for ts in data if left_th <= ts <= right_th]\n",
    "    if not new_data:\n",
    "        return []\n",
    "    bins = max(new_data) // step + 1\n",
    "    dist = [0] * bins\n",
    "    for x in new_data:\n",
    "        dist[x // step] += 1\n",
    "    log_dist = []\n",
    "    i = 0\n",
    "    bin_size = 1\n",
    "    while i < len(dist):\n",
    "        next_i = i + int(max(1, bin_size))\n",
    "        res = 0\n",
    "        while i < next_i and i < len(dist):\n",
    "            res += dist[i]\n",
    "            i += 1\n",
    "        log_dist.append(res)\n",
    "        bin_size *= 1.1\n",
    "    for i in range(len(log_dist)):\n",
    "        log_dist[i] /= len(new_data)\n",
    "    return log_dist\n",
    "\n",
    "def filter_th(dt, left_th, right_th):\n",
    "    return [x for x in dt if left_th <= x <= right_th]\n",
    "\n",
    "step = 1\n",
    "left_threshold = 0\n",
    "right_threshold = 200000\n",
    "right_slice = 5000\n",
    "\n",
    "her_dists = build_distribution(her_diffs, step, left_threshold, right_threshold)[:right_slice]\n",
    "my_dists = build_distribution(my_diffs, step, left_threshold, right_threshold)[:right_slice]\n",
    "\n",
    "def get_label_by_sec(sec):\n",
    "    ss = sec % 60\n",
    "    mm = (sec // 60) % 60\n",
    "    hh = sec // 3600\n",
    "    if hh > 0:\n",
    "        return f'{hh}h'\n",
    "    if mm > 0:\n",
    "        return f'{mm}m'\n",
    "    if ss > 0:\n",
    "        return f'{ss}s'\n",
    "    return '0s'\n",
    "\n",
    "x = []\n",
    "labels = []\n",
    "k = 1.1\n",
    "bin_size = 1\n",
    "curr = 0\n",
    "last_label = -10\n",
    "for i in range(100):\n",
    "    if last_label + 5 < i:\n",
    "        x.append(i)\n",
    "        labels.append(get_label_by_sec(int(curr)))\n",
    "        last_label = i\n",
    "    curr += bin_size\n",
    "    bin_size *= k\n",
    "\n",
    "print(\n",
    "    f'{target_name}: его медиана:', median(filter_th(her_diffs, left_threshold, right_threshold)),\n",
    "    f' моя медиана:', median(filter_th(my_diffs, left_threshold, right_threshold))\n",
    ")\n",
    "print(\n",
    "    f'{target_name}: его среднее:', mean(filter_th(her_diffs, left_threshold, right_threshold)),\n",
    "    f' мое среднее:', mean(filter_th(my_diffs, left_threshold, right_threshold))\n",
    ")\n"
   ],
   "id": "a98d740024eb2476",
   "outputs": [
    {
     "name": "stdout",
     "output_type": "stream",
     "text": [
      "Ваня: его медиана: 33.0  моя медиана: 34.0\n",
      "Ваня: его среднее: 355.26363636363635  мое среднее: 474.2929292929293\n"
     ]
    }
   ],
   "execution_count": 21
  },
  {
   "cell_type": "code",
   "metadata": {
    "ExecuteTime": {
     "end_time": "2025-09-22T17:20:40.380043Z",
     "start_time": "2025-09-22T17:20:40.300426Z"
    }
   },
   "source": [
    "# Plot distributions (bars, as in the original)\n",
    "import matplotlib.pyplot as plt\n",
    "from matplotlib.pyplot import figure\n",
    "\n",
    "figure(num=None, figsize=(16, 6), dpi=80, facecolor='w', edgecolor='k')\n",
    "plt.bar([i for i in range(len(her_dists))], her_dists, color='blue', alpha=0.5)\n",
    "plt.bar([i for i in range(len(my_dists))], my_dists, color='orange', alpha=0.5)\n",
    "plt.xticks(x, labels, rotation='horizontal')\n",
    "plt.legend(['Ваня', 'Даня'])\n",
    "plt.show()\n"
   ],
   "id": "83a32df8d0c34b67",
   "outputs": [
    {
     "data": {
      "text/plain": [
       "<Figure size 1280x480 with 1 Axes>"
      ],
      "image/png": "[encoded data removed]"
     },
     "metadata": {},
     "output_type": "display_data",
     "jetTransient": {
      "display_id": null
     }
    }
   ],
   "execution_count": 23
  }
 ],
 "metadata": {
  "kernelspec": {
   "display_name": "Python 3",
   "language": "python",
   "name": "python3"
  },
  "language_info": {
   "codemirror_mode": {
    "name": "ipython",
    "version": 3
   },
   "file_extension": ".py",
   "mimetype": "text/x-python",
   "name": "python",
   "nbconvert_exporter": "python",
   "pygments_lexer": "ipython3",
   "version": "3.11"
  }
 },
 "nbformat": 4,
 "nbformat_minor": 5
}
